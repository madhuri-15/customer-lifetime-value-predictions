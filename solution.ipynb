{
 "cells": [
  {
   "cell_type": "code",
   "execution_count": 1,
   "id": "1d7ebf82",
   "metadata": {},
   "outputs": [],
   "source": [
    "# importing libraries\n",
    "import pandas as pd\n",
    "import numpy as np\n",
    "\n",
    "# for visualization\n",
    "import matplotlib.pyplot as plt\n",
    "import seaborn as sns\n",
    "%matplotlib inline\n",
    "\n",
    "# for model building\n",
    "from scipy import stats\n",
    "from sklearn.model_selection import train_test_split\n",
    "from sklearn.preprocessing import StandardScaler\n",
    "from sklearn.metrics import r2_score"
   ]
  },
  {
   "cell_type": "code",
   "execution_count": 2,
   "id": "b6fda1a0",
   "metadata": {},
   "outputs": [],
   "source": [
    "# READ DATA\n",
    "train_df = pd.read_csv(\"./train_BRCpofr.csv\", index_col='id')"
   ]
  },
  {
   "cell_type": "code",
   "execution_count": 3,
   "id": "10cc3b0c",
   "metadata": {},
   "outputs": [
    {
     "data": {
      "text/html": [
       "<div>\n",
       "<style scoped>\n",
       "    .dataframe tbody tr th:only-of-type {\n",
       "        vertical-align: middle;\n",
       "    }\n",
       "\n",
       "    .dataframe tbody tr th {\n",
       "        vertical-align: top;\n",
       "    }\n",
       "\n",
       "    .dataframe thead th {\n",
       "        text-align: right;\n",
       "    }\n",
       "</style>\n",
       "<table border=\"1\" class=\"dataframe\">\n",
       "  <thead>\n",
       "    <tr style=\"text-align: right;\">\n",
       "      <th></th>\n",
       "      <th>gender</th>\n",
       "      <th>area</th>\n",
       "      <th>qualification</th>\n",
       "      <th>income</th>\n",
       "      <th>marital_status</th>\n",
       "      <th>vintage</th>\n",
       "      <th>claim_amount</th>\n",
       "      <th>num_policies</th>\n",
       "      <th>policy</th>\n",
       "      <th>type_of_policy</th>\n",
       "      <th>cltv</th>\n",
       "    </tr>\n",
       "    <tr>\n",
       "      <th>id</th>\n",
       "      <th></th>\n",
       "      <th></th>\n",
       "      <th></th>\n",
       "      <th></th>\n",
       "      <th></th>\n",
       "      <th></th>\n",
       "      <th></th>\n",
       "      <th></th>\n",
       "      <th></th>\n",
       "      <th></th>\n",
       "      <th></th>\n",
       "    </tr>\n",
       "  </thead>\n",
       "  <tbody>\n",
       "    <tr>\n",
       "      <th>1</th>\n",
       "      <td>Male</td>\n",
       "      <td>Urban</td>\n",
       "      <td>Bachelor</td>\n",
       "      <td>5L-10L</td>\n",
       "      <td>1</td>\n",
       "      <td>5</td>\n",
       "      <td>5790</td>\n",
       "      <td>More than 1</td>\n",
       "      <td>A</td>\n",
       "      <td>Platinum</td>\n",
       "      <td>64308</td>\n",
       "    </tr>\n",
       "    <tr>\n",
       "      <th>2</th>\n",
       "      <td>Male</td>\n",
       "      <td>Rural</td>\n",
       "      <td>High School</td>\n",
       "      <td>5L-10L</td>\n",
       "      <td>0</td>\n",
       "      <td>8</td>\n",
       "      <td>5080</td>\n",
       "      <td>More than 1</td>\n",
       "      <td>A</td>\n",
       "      <td>Platinum</td>\n",
       "      <td>515400</td>\n",
       "    </tr>\n",
       "    <tr>\n",
       "      <th>3</th>\n",
       "      <td>Male</td>\n",
       "      <td>Urban</td>\n",
       "      <td>Bachelor</td>\n",
       "      <td>5L-10L</td>\n",
       "      <td>1</td>\n",
       "      <td>8</td>\n",
       "      <td>2599</td>\n",
       "      <td>More than 1</td>\n",
       "      <td>A</td>\n",
       "      <td>Platinum</td>\n",
       "      <td>64212</td>\n",
       "    </tr>\n",
       "    <tr>\n",
       "      <th>4</th>\n",
       "      <td>Female</td>\n",
       "      <td>Rural</td>\n",
       "      <td>High School</td>\n",
       "      <td>5L-10L</td>\n",
       "      <td>0</td>\n",
       "      <td>7</td>\n",
       "      <td>0</td>\n",
       "      <td>More than 1</td>\n",
       "      <td>A</td>\n",
       "      <td>Platinum</td>\n",
       "      <td>97920</td>\n",
       "    </tr>\n",
       "    <tr>\n",
       "      <th>5</th>\n",
       "      <td>Male</td>\n",
       "      <td>Urban</td>\n",
       "      <td>High School</td>\n",
       "      <td>More than 10L</td>\n",
       "      <td>1</td>\n",
       "      <td>6</td>\n",
       "      <td>3508</td>\n",
       "      <td>More than 1</td>\n",
       "      <td>A</td>\n",
       "      <td>Gold</td>\n",
       "      <td>59736</td>\n",
       "    </tr>\n",
       "  </tbody>\n",
       "</table>\n",
       "</div>"
      ],
      "text/plain": [
       "    gender   area qualification         income  marital_status  vintage  \\\n",
       "id                                                                        \n",
       "1     Male  Urban      Bachelor         5L-10L               1        5   \n",
       "2     Male  Rural   High School         5L-10L               0        8   \n",
       "3     Male  Urban      Bachelor         5L-10L               1        8   \n",
       "4   Female  Rural   High School         5L-10L               0        7   \n",
       "5     Male  Urban   High School  More than 10L               1        6   \n",
       "\n",
       "    claim_amount num_policies policy type_of_policy    cltv  \n",
       "id                                                           \n",
       "1           5790  More than 1      A       Platinum   64308  \n",
       "2           5080  More than 1      A       Platinum  515400  \n",
       "3           2599  More than 1      A       Platinum   64212  \n",
       "4              0  More than 1      A       Platinum   97920  \n",
       "5           3508  More than 1      A           Gold   59736  "
      ]
     },
     "execution_count": 3,
     "metadata": {},
     "output_type": "execute_result"
    }
   ],
   "source": [
    "# view\n",
    "train_df.head()"
   ]
  },
  {
   "cell_type": "code",
   "execution_count": 4,
   "id": "132e9682",
   "metadata": {},
   "outputs": [
    {
     "name": "stdout",
     "output_type": "stream",
     "text": [
      "Number of rows::     89392\n",
      "Number of columns::  11\n"
     ]
    }
   ],
   "source": [
    "# Shape of dataset\n",
    "print(\"Number of rows::\".ljust(20), train_df.shape[0])\n",
    "print(\"Number of columns::\".ljust(20), train_df.shape[1])"
   ]
  },
  {
   "cell_type": "code",
   "execution_count": 5,
   "id": "afc8f0be",
   "metadata": {},
   "outputs": [
    {
     "name": "stdout",
     "output_type": "stream",
     "text": [
      "Column list:: ['gender', 'area', 'qualification', 'income', 'marital_status', 'vintage', 'claim_amount', 'num_policies', 'policy', 'type_of_policy', 'cltv']\n"
     ]
    }
   ],
   "source": [
    "# Column names\n",
    "print(\"Column list::\", train_df.columns.tolist())"
   ]
  },
  {
   "cell_type": "code",
   "execution_count": 6,
   "id": "86304d25",
   "metadata": {},
   "outputs": [
    {
     "data": {
      "text/plain": [
       "26"
      ]
     },
     "execution_count": 6,
     "metadata": {},
     "output_type": "execute_result"
    }
   ],
   "source": [
    "# Check if there is any duplicate records present in data\n",
    "train_df.duplicated().sum()"
   ]
  },
  {
   "cell_type": "code",
   "execution_count": 7,
   "id": "72b98609",
   "metadata": {},
   "outputs": [],
   "source": [
    "# Drop the duplicates\n",
    "train_df = train_df.drop_duplicates(ignore_index=True)"
   ]
  },
  {
   "cell_type": "code",
   "execution_count": 8,
   "id": "3c383aec",
   "metadata": {},
   "outputs": [
    {
     "name": "stdout",
     "output_type": "stream",
     "text": [
      "<class 'pandas.core.frame.DataFrame'>\n",
      "RangeIndex: 89366 entries, 0 to 89365\n",
      "Data columns (total 11 columns):\n",
      " #   Column          Non-Null Count  Dtype \n",
      "---  ------          --------------  ----- \n",
      " 0   gender          89366 non-null  object\n",
      " 1   area            89366 non-null  object\n",
      " 2   qualification   89366 non-null  object\n",
      " 3   income          89366 non-null  object\n",
      " 4   marital_status  89366 non-null  int64 \n",
      " 5   vintage         89366 non-null  int64 \n",
      " 6   claim_amount    89366 non-null  int64 \n",
      " 7   num_policies    89366 non-null  object\n",
      " 8   policy          89366 non-null  object\n",
      " 9   type_of_policy  89366 non-null  object\n",
      " 10  cltv            89366 non-null  int64 \n",
      "dtypes: int64(4), object(7)\n",
      "memory usage: 7.5+ MB\n"
     ]
    }
   ],
   "source": [
    "# Summary statistics \n",
    "train_df.info()"
   ]
  },
  {
   "cell_type": "markdown",
   "id": "82f37323",
   "metadata": {},
   "source": [
    "The above training dataset has total 89366 of rows and 10 columns. The name of columns names seems perfect and does not contain any null values. The all data column types appear to be categorical except claim_amount and cltv."
   ]
  },
  {
   "cell_type": "code",
   "execution_count": 9,
   "id": "6415b519",
   "metadata": {},
   "outputs": [
    {
     "name": "stdout",
     "output_type": "stream",
     "text": [
      "GENDER            :['Male' 'Female']\n",
      "AREA              :['Urban' 'Rural']\n",
      "QUALIFICATION     :['Bachelor' 'High School' 'Others']\n",
      "INCOME            :['5L-10L' 'More than 10L' '2L-5L' '<=2L']\n",
      "MARITAL_STATUS    :[1 0]\n",
      "VINTAGE           :[5 8 7 6 1 0 3 4 2]\n",
      "NUM_POLICIES      :['More than 1' '1']\n",
      "POLICY            :['A' 'C' 'B']\n",
      "TYPE_OF_POLICY    :['Platinum' 'Gold' 'Silver']\n"
     ]
    }
   ],
   "source": [
    "# Check unique values in categorical data.\n",
    "categorical_columns = train_df.drop(columns=['claim_amount', 'cltv'], axis=1).columns.tolist()\n",
    "for col in categorical_columns:\n",
    "    print(f\"{col.upper().ljust(18)}:{train_df[col].unique()}\")"
   ]
  },
  {
   "cell_type": "markdown",
   "id": "44286214",
   "metadata": {},
   "source": [
    "## Split the data"
   ]
  },
  {
   "cell_type": "code",
   "execution_count": 10,
   "id": "59cf8587",
   "metadata": {},
   "outputs": [],
   "source": [
    "# Further split the data into training, validation and test datasets in ratio of 70:20:10.\n",
    "df_full, df_test = train_test_split(train_df, test_size=10, random_state=42)\n",
    "df_train, df_valid = train_test_split(df_full, test_size=18, random_state=42)"
   ]
  },
  {
   "cell_type": "code",
   "execution_count": 11,
   "id": "dc1093d0",
   "metadata": {},
   "outputs": [],
   "source": [
    "# Split the data into X and y\n",
    "X_train = df_train.drop(['cltv'], axis=1)\n",
    "y_train = df_train['cltv']\n",
    "\n",
    "X_valid = df_valid.drop(['cltv'], axis=1)\n",
    "y_valid = df_valid['cltv']\n",
    "\n",
    "X_test = df_test.drop(['cltv'], axis=1)\n",
    "y_test = df_test['cltv']"
   ]
  },
  {
   "cell_type": "code",
   "execution_count": 12,
   "id": "239738df",
   "metadata": {},
   "outputs": [],
   "source": [
    "# Reindexing\n",
    "X_train = X_train.reset_index(drop=True)\n",
    "X_valid = X_valid.reset_index(drop=True)\n",
    "X_test  = X_test.reset_index(drop=True)\n",
    "\n",
    "y_train = y_train.reset_index(drop=True)\n",
    "y_valid = y_valid.reset_index(drop=True)\n",
    "y_test  = y_test.reset_index(drop=True)"
   ]
  },
  {
   "cell_type": "markdown",
   "id": "1fb217b7",
   "metadata": {},
   "source": [
    "# Data Analysis"
   ]
  },
  {
   "cell_type": "code",
   "execution_count": 13,
   "id": "3078337d",
   "metadata": {},
   "outputs": [
    {
     "data": {
      "image/png": "[encoded data removed]",
      "text/plain": [
       "<Figure size 504x360 with 1 Axes>"
      ]
     },
     "metadata": {
      "needs_background": "light"
     },
     "output_type": "display_data"
    }
   ],
   "source": [
    "# Output variable distribution\n",
    "plt.figure(figsize=(7, 5))\n",
    "sns.histplot(x=df_train['cltv'], bins=50, kde=True)\n",
    "plt.title(\"Long tail distribution of customer lifetime value\", size=10)\n",
    "plt.show()"
   ]
  },
  {
   "cell_type": "markdown",
   "id": "bbc9a11d",
   "metadata": {},
   "source": [
    "From the above histogram, we can see that, the customer liftetime value has a long tail distribution with outliers. Let's remove the outliers from the data."
   ]
  },
  {
   "cell_type": "code",
   "execution_count": 14,
   "id": "0788be63",
   "metadata": {},
   "outputs": [],
   "source": [
    "# Remove outliers\n",
    "# Compute the 1st and 3rd quantile.\n",
    "def remove_outlier(data):\n",
    "    \n",
    "    Q1 = np.quantile(data, 0.25)\n",
    "    Q3 = np.quantile(data, 0.75)\n",
    "\n",
    "    IQR = Q3 - Q1\n",
    "\n",
    "    upper_range = Q3 + IQR*1.5\n",
    "    lower_range = Q1 - IQR*1.5\n",
    "\n",
    "    data = np.where(data > upper_range, upper_range, data)\n",
    "    data = np.where(data < lower_range, lower_range, data)\n",
    "    return data\n",
    "    \n",
    "df_train['cltv'] = remove_outlier(df_train['cltv'])"
   ]
  },
  {
   "cell_type": "code",
   "execution_count": 15,
   "id": "830e8e48",
   "metadata": {},
   "outputs": [],
   "source": [
    "y_train = remove_outlier(y_train)\n",
    "y_test = remove_outlier(y_test)\n",
    "y_valid = remove_outlier(y_valid)"
   ]
  },
  {
   "cell_type": "markdown",
   "id": "ef7ae5bc",
   "metadata": {},
   "source": [
    "## One way ANOVA hypothesis test.\n",
    "\n",
    "Let's compute the one way anova hypothesis test of correlation for categorical variable and output numeric variable.\n",
    "\n",
    "- **H0(null hypothesis)**:  The mean of group of each category of given feature variable is same.\n",
    "- **H1(alternative hypothesis)**: There is difference between these two or more group means.\n"
   ]
  },
  {
   "cell_type": "code",
   "execution_count": 16,
   "id": "3ad0738b",
   "metadata": {},
   "outputs": [
    {
     "name": "stdout",
     "output_type": "stream",
     "text": [
      "ANOVA hypothesis test::\n",
      "F_statistics:: 29.897994058170294\n",
      "P-value:: 4.565994041522391e-08\n",
      "p-value=0.000, Null hypothesis is rejected\n"
     ]
    }
   ],
   "source": [
    "# ANOVA TEST for - Gender\n",
    "f_stats, p_value = stats.f_oneway(df_train[df_train['gender'] == 'Female']['cltv'],\n",
    "                                  df_train[df_train['gender'] == 'Male']['cltv'])\n",
    "\n",
    "print(\"ANOVA hypothesis test::\")\n",
    "print(\"F_statistics::\", f_stats)\n",
    "print(\"P-value::\", p_value)\n",
    "\n",
    "if p_value < 0.05:\n",
    "    print(f\"p-value={p_value:.3f}, Null hypothesis is rejected\")\n",
    "else:\n",
    "    print(f\"p-value={p_value:.3f} failed to reject null hypothesis.\")"
   ]
  },
  {
   "cell_type": "markdown",
   "id": "6810d4b2",
   "metadata": {},
   "source": [
    "The above ANOVA test results has p-value which is less than 0.05, which reject the null hypothesis. This tells us that there is  statistically significant difference in means of gender categories."
   ]
  },
  {
   "cell_type": "code",
   "execution_count": 17,
   "id": "c11d6540",
   "metadata": {},
   "outputs": [
    {
     "data": {
      "text/html": [
       "<div>\n",
       "<style scoped>\n",
       "    .dataframe tbody tr th:only-of-type {\n",
       "        vertical-align: middle;\n",
       "    }\n",
       "\n",
       "    .dataframe tbody tr th {\n",
       "        vertical-align: top;\n",
       "    }\n",
       "\n",
       "    .dataframe thead th {\n",
       "        text-align: right;\n",
       "    }\n",
       "</style>\n",
       "<table border=\"1\" class=\"dataframe\">\n",
       "  <thead>\n",
       "    <tr style=\"text-align: right;\">\n",
       "      <th></th>\n",
       "      <th>Male</th>\n",
       "      <th>Female</th>\n",
       "    </tr>\n",
       "  </thead>\n",
       "  <tbody>\n",
       "    <tr>\n",
       "      <th>count</th>\n",
       "      <td>50474.00</td>\n",
       "      <td>38864.00</td>\n",
       "    </tr>\n",
       "    <tr>\n",
       "      <th>mean</th>\n",
       "      <td>81852.81</td>\n",
       "      <td>83544.60</td>\n",
       "    </tr>\n",
       "    <tr>\n",
       "      <th>std</th>\n",
       "      <td>46335.16</td>\n",
       "      <td>45205.97</td>\n",
       "    </tr>\n",
       "    <tr>\n",
       "      <th>min</th>\n",
       "      <td>25848.00</td>\n",
       "      <td>24828.00</td>\n",
       "    </tr>\n",
       "    <tr>\n",
       "      <th>25%</th>\n",
       "      <td>50556.00</td>\n",
       "      <td>55656.00</td>\n",
       "    </tr>\n",
       "    <tr>\n",
       "      <th>50%</th>\n",
       "      <td>65832.00</td>\n",
       "      <td>67152.00</td>\n",
       "    </tr>\n",
       "    <tr>\n",
       "      <th>75%</th>\n",
       "      <td>103200.00</td>\n",
       "      <td>103812.00</td>\n",
       "    </tr>\n",
       "    <tr>\n",
       "      <th>max</th>\n",
       "      <td>179364.00</td>\n",
       "      <td>179364.00</td>\n",
       "    </tr>\n",
       "  </tbody>\n",
       "</table>\n",
       "</div>"
      ],
      "text/plain": [
       "            Male     Female\n",
       "count   50474.00   38864.00\n",
       "mean    81852.81   83544.60\n",
       "std     46335.16   45205.97\n",
       "min     25848.00   24828.00\n",
       "25%     50556.00   55656.00\n",
       "50%     65832.00   67152.00\n",
       "75%    103200.00  103812.00\n",
       "max    179364.00  179364.00"
      ]
     },
     "execution_count": 17,
     "metadata": {},
     "output_type": "execute_result"
    }
   ],
   "source": [
    "# Summary statistics by categories.\n",
    "a = round(df_train.loc[df_train.gender=='Male', 'cltv'].describe(), 2)\n",
    "b = round(df_train.loc[df_train.gender=='Female', 'cltv'].describe(), 2)\n",
    "\n",
    "pd.concat([a, b], keys=['Male', 'Female'], axis=1)"
   ]
  },
  {
   "cell_type": "code",
   "execution_count": 18,
   "id": "93957a0a",
   "metadata": {},
   "outputs": [
    {
     "data": {
      "image/png": "[encoded data removed]",
      "text/plain": [
       "<Figure size 720x216 with 2 Axes>"
      ]
     },
     "metadata": {
      "needs_background": "light"
     },
     "output_type": "display_data"
    }
   ],
   "source": [
    "# Distribution of feature `Gender`\n",
    "fig, (ax1, ax2) = plt.subplots(1, 2, figsize=(10, 3))\n",
    "fig.subplots_adjust(wspace=0.4, hspace=0.4)\n",
    "\n",
    "sns.countplot(data=df_train, x='gender', width=0.4, color='#1f75fe', ax=ax1)\n",
    "ax1.set_title(\"Distribution of Gender\", size=10)\n",
    "\n",
    "sns.boxplot(data=df_train, x='cltv', y='gender', width=0.4, color='#1f75fe', ax=ax2)\n",
    "ax2.set_title(\"Box-plot - Gender\", size=10)\n",
    "plt.show()"
   ]
  },
  {
   "cell_type": "markdown",
   "id": "b9beccfc",
   "metadata": {},
   "source": [
    "We can see from the above box plot, the distribution of `customer lifetime value` is almost same for both categories male and female."
   ]
  },
  {
   "cell_type": "code",
   "execution_count": 19,
   "id": "de9b38d7",
   "metadata": {},
   "outputs": [
    {
     "name": "stdout",
     "output_type": "stream",
     "text": [
      "ANOVA hypothesis test::\n",
      "F_statistics:: 172.90381698580285\n",
      "P-value:: 1.131847603610698e-75\n",
      "p-value=0.000, Null hypothesis is rejected\n"
     ]
    }
   ],
   "source": [
    "# ANOVA TEST for - Qualification - 'Bachelor' 'High School' 'Others'\n",
    "f_stats, p_value = stats.f_oneway(df_train[df_train['qualification'] == 'Bachelor']['cltv'],\n",
    "                                  df_train[df_train['qualification'] == 'High School']['cltv'],\n",
    "                                  df_train[df_train['qualification'] == 'Others']['cltv'])\n",
    "\n",
    "print(\"ANOVA hypothesis test::\")\n",
    "print(\"F_statistics::\", f_stats)\n",
    "print(\"P-value::\", p_value)\n",
    "\n",
    "if p_value < 0.05:\n",
    "    print(f\"p-value={p_value:.3f}, Null hypothesis is rejected\")\n",
    "else:\n",
    "    print(f\"p-value={p_value:.3f}, failed to reject null hypothesis.\")"
   ]
  },
  {
   "cell_type": "markdown",
   "id": "80082a6a",
   "metadata": {},
   "source": [
    "The above `ANOVA` test for qualification feature shows that there is statistical significant difference between means of different education degrees."
   ]
  },
  {
   "cell_type": "code",
   "execution_count": 20,
   "id": "eb51f42e",
   "metadata": {},
   "outputs": [
    {
     "data": {
      "text/html": [
       "<div>\n",
       "<style scoped>\n",
       "    .dataframe tbody tr th:only-of-type {\n",
       "        vertical-align: middle;\n",
       "    }\n",
       "\n",
       "    .dataframe tbody tr th {\n",
       "        vertical-align: top;\n",
       "    }\n",
       "\n",
       "    .dataframe thead th {\n",
       "        text-align: right;\n",
       "    }\n",
       "</style>\n",
       "<table border=\"1\" class=\"dataframe\">\n",
       "  <thead>\n",
       "    <tr style=\"text-align: right;\">\n",
       "      <th></th>\n",
       "      <th>Bachelor</th>\n",
       "      <th>HighSchool</th>\n",
       "      <th>Others</th>\n",
       "    </tr>\n",
       "  </thead>\n",
       "  <tbody>\n",
       "    <tr>\n",
       "      <th>count</th>\n",
       "      <td>39371.00</td>\n",
       "      <td>46221.00</td>\n",
       "      <td>3746.00</td>\n",
       "    </tr>\n",
       "    <tr>\n",
       "      <th>mean</th>\n",
       "      <td>82963.01</td>\n",
       "      <td>83370.40</td>\n",
       "      <td>69011.21</td>\n",
       "    </tr>\n",
       "    <tr>\n",
       "      <th>std</th>\n",
       "      <td>45260.59</td>\n",
       "      <td>46549.65</td>\n",
       "      <td>41073.77</td>\n",
       "    </tr>\n",
       "    <tr>\n",
       "      <th>min</th>\n",
       "      <td>24876.00</td>\n",
       "      <td>24828.00</td>\n",
       "      <td>27792.00</td>\n",
       "    </tr>\n",
       "    <tr>\n",
       "      <th>25%</th>\n",
       "      <td>54720.00</td>\n",
       "      <td>52836.00</td>\n",
       "      <td>36060.00</td>\n",
       "    </tr>\n",
       "    <tr>\n",
       "      <th>50%</th>\n",
       "      <td>66876.00</td>\n",
       "      <td>66432.00</td>\n",
       "      <td>60516.00</td>\n",
       "    </tr>\n",
       "    <tr>\n",
       "      <th>75%</th>\n",
       "      <td>103644.00</td>\n",
       "      <td>104352.00</td>\n",
       "      <td>72729.00</td>\n",
       "    </tr>\n",
       "    <tr>\n",
       "      <th>max</th>\n",
       "      <td>179364.00</td>\n",
       "      <td>179364.00</td>\n",
       "      <td>179364.00</td>\n",
       "    </tr>\n",
       "  </tbody>\n",
       "</table>\n",
       "</div>"
      ],
      "text/plain": [
       "        Bachelor  HighSchool     Others\n",
       "count   39371.00    46221.00    3746.00\n",
       "mean    82963.01    83370.40   69011.21\n",
       "std     45260.59    46549.65   41073.77\n",
       "min     24876.00    24828.00   27792.00\n",
       "25%     54720.00    52836.00   36060.00\n",
       "50%     66876.00    66432.00   60516.00\n",
       "75%    103644.00   104352.00   72729.00\n",
       "max    179364.00   179364.00  179364.00"
      ]
     },
     "execution_count": 20,
     "metadata": {},
     "output_type": "execute_result"
    }
   ],
   "source": [
    "# Let's see the distribution of qualification \n",
    "bachelor_d = round(df_train.loc[df_train.qualification=='Bachelor', 'cltv'].describe(), 2)\n",
    "high_school_d = round(df_train.loc[df_train.qualification=='High School', 'cltv'].describe(), 2)\n",
    "other_d = round(df_train.loc[df_train.qualification=='Others', 'cltv'].describe(), 2)\n",
    "\n",
    "pd.concat([bachelor_d, high_school_d, other_d], keys=['Bachelor', 'HighSchool', 'Others'], axis=1)"
   ]
  },
  {
   "cell_type": "code",
   "execution_count": 21,
   "id": "2913226a",
   "metadata": {},
   "outputs": [
    {
     "data": {
      "image/png": "[encoded data removed]",
      "text/plain": [
       "<Figure size 720x216 with 2 Axes>"
      ]
     },
     "metadata": {
      "needs_background": "light"
     },
     "output_type": "display_data"
    }
   ],
   "source": [
    "# Distribution of feature `qualification`\n",
    "fig, (ax1, ax2) = plt.subplots(1, 2, figsize=(10, 3))\n",
    "fig.subplots_adjust(wspace=0.4, hspace=0.4)\n",
    "\n",
    "sns.countplot(data=df_train, x='qualification', width=0.4, color='#1f75fe', ax=ax1)\n",
    "ax1.set_title(\"Distribution of Qualification\", size=10)\n",
    "\n",
    "sns.boxplot(data=df_train, x='cltv', y='qualification', width=0.4, color='#1f75fe', ax=ax2)\n",
    "ax2.set_title(\"Box-plot - Qualification\", size=10)\n",
    "plt.show()"
   ]
  },
  {
   "cell_type": "markdown",
   "id": "79436203",
   "metadata": {},
   "source": [
    "We can from the above box-plot that, there is no such difference in means of customers with `Bachelor` or `High School` degree. But, there is statistical difference in means of `Others`."
   ]
  },
  {
   "cell_type": "code",
   "execution_count": 22,
   "id": "caf56cd2",
   "metadata": {},
   "outputs": [
    {
     "name": "stdout",
     "output_type": "stream",
     "text": [
      "ANOVA hypothesis test::\n",
      "F_statistics:: 280.1473748130343\n",
      "P-value:: 5.201291529826173e-181\n",
      "p-value=0.000, Null hypothesis is rejected\n"
     ]
    }
   ],
   "source": [
    "# ANOVA TEST for - Income - ['5L-10L', 'More than 10L', '<=2L', '2L-5L']\n",
    "f_stats, p_value = stats.f_oneway(df_train[df_train['income'] == '5L-10L']['cltv'],\n",
    "                                  df_train[df_train['income'] == 'More than 10L']['cltv'],\n",
    "                                  df_train[df_train['income'] == '<=2L']['cltv'],\n",
    "                                  df_train[df_train['income'] == '2L-5L']['cltv']\n",
    "                                 )\n",
    "\n",
    "print(\"ANOVA hypothesis test::\")\n",
    "print(\"F_statistics::\", f_stats)\n",
    "print(\"P-value::\", p_value)\n",
    "\n",
    "if p_value < 0.05:\n",
    "    print(f\"p-value={p_value:.3f}, Null hypothesis is rejected\")\n",
    "else:\n",
    "    print(f\"p-value={p_value:.3f}, failed to reject null hypothesis.\")"
   ]
  },
  {
   "cell_type": "markdown",
   "id": "38ce73e2",
   "metadata": {},
   "source": [
    "The above `ANOVA` test for income feature shows that there is statistical significant difference in means of customer lifetime value(cltv) of different income cateogries of customers."
   ]
  },
  {
   "cell_type": "code",
   "execution_count": 23,
   "id": "ab350c78",
   "metadata": {},
   "outputs": [
    {
     "data": {
      "image/png": "[encoded data removed]",
      "text/plain": [
       "<Figure size 720x216 with 2 Axes>"
      ]
     },
     "metadata": {
      "needs_background": "light"
     },
     "output_type": "display_data"
    }
   ],
   "source": [
    "# Distribution of feature `Income`\n",
    "fig, (ax1, ax2) = plt.subplots(1, 2, figsize=(10, 3))\n",
    "fig.subplots_adjust(wspace=0.4, hspace=0.4)\n",
    "\n",
    "sns.countplot(data=df_train, x='income', width=0.4, color='#1f75fe', ax=ax1)\n",
    "ax1.set_title(\"Distribution of Income\", size=10)\n",
    "\n",
    "sns.boxplot(data=df_train, x='cltv', y='income', width=0.4, color='#1f75fe', ax=ax2)\n",
    "ax2.set_title(\"Box-plot - Income\", size=10)\n",
    "plt.show()"
   ]
  },
  {
   "cell_type": "markdown",
   "id": "f42d0d03",
   "metadata": {},
   "source": [
    "The above `ANOVA` test and box plot distribution shows that, there is significant differences in means of income ranges of customer with customer lifetime value."
   ]
  },
  {
   "cell_type": "code",
   "execution_count": 24,
   "id": "e5b87fd9",
   "metadata": {},
   "outputs": [
    {
     "name": "stdout",
     "output_type": "stream",
     "text": [
      "ANOVA hypothesis test::\n",
      "F_statistics:: 803.2561861584604\n",
      "P-value:: 6.390653554446461e-176\n",
      "p-value=0.000, Null hypothesis is rejected\n"
     ]
    }
   ],
   "source": [
    "# ANOVA TEST for - Martial Status 0 - single 1- married.\n",
    "f_stats, p_value = stats.f_oneway(df_train[df_train['marital_status'] == 0]['cltv'],\n",
    "                                  df_train[df_train['marital_status'] == 1]['cltv'])\n",
    "\n",
    "print(\"ANOVA hypothesis test::\")\n",
    "print(\"F_statistics::\", f_stats)\n",
    "print(\"P-value::\", p_value)\n",
    "\n",
    "if p_value < 0.05:\n",
    "    print(f\"p-value={p_value:.3f}, Null hypothesis is rejected\")\n",
    "else:\n",
    "    print(f\"p-value={p_value:.3f} failed to reject null hypothesis.\")"
   ]
  },
  {
   "cell_type": "markdown",
   "id": "8cb7ffc4",
   "metadata": {},
   "source": [
    "The above `ANOVA` test results has p-value which is less than 0.05, which reject the null hypothesis. This tells us that there is statistically significant difference in means of marital status of customers."
   ]
  },
  {
   "cell_type": "code",
   "execution_count": 25,
   "id": "8a6e9c5a",
   "metadata": {},
   "outputs": [
    {
     "data": {
      "image/png": "[encoded data removed]",
      "text/plain": [
       "<Figure size 720x216 with 2 Axes>"
      ]
     },
     "metadata": {
      "needs_background": "light"
     },
     "output_type": "display_data"
    }
   ],
   "source": [
    "# Distribution of feature `Income`\n",
    "a = df_train['marital_status'].astype('category')\n",
    "fig, (ax1, ax2) = plt.subplots(1, 2, figsize=(10, 3))\n",
    "fig.subplots_adjust(wspace=0.4, hspace=0.4)\n",
    "\n",
    "sns.countplot(data=df_train, x=a, width=0.4, color='#1f75fe', ax=ax1)\n",
    "ax1.set_title(\"Distribution of Martial Status\", size=10)\n",
    "\n",
    "sns.boxplot(data=df_train, x='cltv', y=a, width=0.4, color='#1f75fe', ax=ax2)\n",
    "ax2.set_title(\"Box-plot - Martial Status\", size=10)\n",
    "plt.show()"
   ]
  },
  {
   "cell_type": "code",
   "execution_count": 26,
   "id": "abfc1b32",
   "metadata": {},
   "outputs": [
    {
     "name": "stdout",
     "output_type": "stream",
     "text": [
      "ANOVA hypothesis test::\n",
      "F_statistics:: 2062.5046609252254\n",
      "P-value:: 0.0\n",
      "p-value=0.000, Null hypothesis is rejected\n"
     ]
    }
   ],
   "source": [
    "# ANOVA TEST for - Area\n",
    "f_stats, p_value = stats.f_oneway(df_train[df_train['area'] == 'Urban']['cltv'],\n",
    "                                  df_train[df_train['area'] == 'Rural']['cltv'])\n",
    "\n",
    "print(\"ANOVA hypothesis test::\")\n",
    "print(\"F_statistics::\", f_stats)\n",
    "print(\"P-value::\", p_value)\n",
    "\n",
    "if p_value < 0.05:\n",
    "    print(f\"p-value={p_value:.3f}, Null hypothesis is rejected\")\n",
    "else:\n",
    "    print(f\"p-value={p_value:.3f} failed to reject null hypothesis.\")"
   ]
  },
  {
   "cell_type": "code",
   "execution_count": 27,
   "id": "1ba9900c",
   "metadata": {},
   "outputs": [
    {
     "data": {
      "image/png": "[encoded data removed]",
      "text/plain": [
       "<Figure size 720x216 with 2 Axes>"
      ]
     },
     "metadata": {
      "needs_background": "light"
     },
     "output_type": "display_data"
    }
   ],
   "source": [
    "# Distribution of feature `area`\n",
    "fig, (ax1, ax2) = plt.subplots(1, 2, figsize=(10, 3))\n",
    "fig.subplots_adjust(wspace=0.4, hspace=0.4)\n",
    "\n",
    "sns.countplot(data=df_train, x='area', width=0.4, color='#1f75fe', ax=ax1)\n",
    "ax1.set_title(\"Distribution of Area\", size=10)\n",
    "\n",
    "sns.boxplot(data=df_train, x='cltv', y='area', width=0.4, color='#1f75fe', ax=ax2)\n",
    "ax2.set_title(\"Box-plot - Area\", size=10)\n",
    "plt.show()"
   ]
  },
  {
   "cell_type": "markdown",
   "id": "1f1507f3",
   "metadata": {},
   "source": [
    "The above `ANOVA` test and box plot distribution shows that, there is significant differences in means of type of area."
   ]
  },
  {
   "cell_type": "code",
   "execution_count": 28,
   "id": "0caeb5ba",
   "metadata": {},
   "outputs": [
    {
     "name": "stdout",
     "output_type": "stream",
     "text": [
      "ANOVA hypothesis test::\n",
      "F_statistics:: 39.489589899591806\n",
      "P-value:: 2.1967698676650302e-63\n",
      "p-value=0.000, Null hypothesis is rejected\n"
     ]
    }
   ],
   "source": [
    "# ANOVA TEST for - vintage - [0, 1, 2, 3, 4, 5, 6, 7, 8]\n",
    "f_stats, p_value = stats.f_oneway(df_train[df_train['vintage'] == 0]['cltv'],\n",
    "                                  df_train[df_train['vintage'] == 1]['cltv'],\n",
    "                                  df_train[df_train['vintage'] == 2]['cltv'],\n",
    "                                  df_train[df_train['vintage'] == 3]['cltv'],\n",
    "                                  df_train[df_train['vintage'] == 4]['cltv'],\n",
    "                                  df_train[df_train['vintage'] == 5]['cltv'],\n",
    "                                  df_train[df_train['vintage'] == 6]['cltv'],\n",
    "                                  df_train[df_train['vintage'] == 7]['cltv'],\n",
    "                                  df_train[df_train['vintage'] == 8]['cltv'])\n",
    "\n",
    "print(\"ANOVA hypothesis test::\")\n",
    "print(\"F_statistics::\", f_stats)\n",
    "print(\"P-value::\", p_value)\n",
    "\n",
    "if p_value < 0.05:\n",
    "    print(f\"p-value={p_value:.3f}, Null hypothesis is rejected\")\n",
    "else:\n",
    "    print(f\"p-value={p_value:.3f}, failed to reject null hypothesis.\")"
   ]
  },
  {
   "cell_type": "code",
   "execution_count": 29,
   "id": "4d6e783b",
   "metadata": {},
   "outputs": [
    {
     "name": "stdout",
     "output_type": "stream",
     "text": [
      "ANOVA hypothesis test::\n",
      "F_statistics:: 85.56223640713438\n",
      "P-value:: 7.522070474002407e-38\n",
      "p-value=0.000, Null hypothesis is rejected\n"
     ]
    }
   ],
   "source": [
    "# ANOVA TEST for - Type of policy - ['Platinum', 'Gold', 'Silver']\n",
    "f_stats, p_value = stats.f_oneway(df_train[df_train['type_of_policy'] == 'Platinum']['cltv'],\n",
    "                                  df_train[df_train['type_of_policy'] == 'Gold']['cltv'],\n",
    "                                  df_train[df_train['type_of_policy'] == 'Silver']['cltv']\n",
    "                                 )\n",
    "print(\"ANOVA hypothesis test::\")\n",
    "print(\"F_statistics::\", f_stats)\n",
    "print(\"P-value::\", p_value)\n",
    "\n",
    "if p_value < 0.05:\n",
    "    print(f\"p-value={p_value:.3f}, Null hypothesis is rejected\")\n",
    "else:\n",
    "    print(f\"p-value={p_value:.3f}, failed to reject null hypothesis.\")"
   ]
  },
  {
   "cell_type": "code",
   "execution_count": 30,
   "id": "21a5d916",
   "metadata": {},
   "outputs": [
    {
     "data": {
      "image/png": "[encoded data removed]",
      "text/plain": [
       "<Figure size 720x216 with 2 Axes>"
      ]
     },
     "metadata": {
      "needs_background": "light"
     },
     "output_type": "display_data"
    }
   ],
   "source": [
    "# Distribution of feature `Type of policy`\n",
    "fig, (ax1, ax2) = plt.subplots(1, 2, figsize=(10, 3))\n",
    "fig.subplots_adjust(wspace=0.4, hspace=0.4)\n",
    "\n",
    "sns.countplot(data=df_train, x='type_of_policy', width=0.4, color='#1f75fe', ax=ax1)\n",
    "ax1.set_title(\"Distribution of Area\", size=10)\n",
    "\n",
    "sns.boxplot(data=df_train, x='cltv', y='type_of_policy', width=0.4, color='#1f75fe', ax=ax2)\n",
    "ax2.set_title(\"Box-plot - Area\", size=10)\n",
    "plt.show()"
   ]
  },
  {
   "cell_type": "markdown",
   "id": "d465c2ca",
   "metadata": {},
   "source": [
    "From `ANOVA` and box plot we can say that, there is slight difference in means of types of policy of customers."
   ]
  },
  {
   "cell_type": "markdown",
   "id": "d8501221",
   "metadata": {},
   "source": [
    "### Correlation analysis - Numeric Variable"
   ]
  },
  {
   "cell_type": "code",
   "execution_count": 31,
   "id": "819d372a",
   "metadata": {},
   "outputs": [
    {
     "data": {
      "text/plain": [
       "count    89338.000000\n",
       "mean      4352.843393\n",
       "std       3262.251793\n",
       "min          0.000000\n",
       "25%       2407.000000\n",
       "50%       4089.000000\n",
       "75%       6094.000000\n",
       "max      31894.000000\n",
       "Name: claim_amount, dtype: float64"
      ]
     },
     "execution_count": 31,
     "metadata": {},
     "output_type": "execute_result"
    }
   ],
   "source": [
    "# Distribution of numerical features\n",
    "X_train['claim_amount'].describe()"
   ]
  },
  {
   "cell_type": "code",
   "execution_count": 32,
   "id": "2817d04f",
   "metadata": {},
   "outputs": [
    {
     "data": {
      "image/png": "[encoded data removed]",
      "text/plain": [
       "<Figure size 792x216 with 2 Axes>"
      ]
     },
     "metadata": {
      "needs_background": "light"
     },
     "output_type": "display_data"
    }
   ],
   "source": [
    "# Histogram plot for distribution\n",
    "fig, (ax1, ax2) = plt.subplots(1, 2, figsize=(11, 3))\n",
    "\n",
    "sns.histplot(data=X_train, x='claim_amount', bins=50, ax=ax1)\n",
    "ax1.set_title(\"Distribution of claim amount\", size=10)\n",
    "\n",
    "sns.boxplot(x=X_train['claim_amount'], orient='h', ax=ax2)\n",
    "ax2.set_title(\"Boxplot claim amount\", size=10)\n",
    "\n",
    "plt.show()"
   ]
  },
  {
   "cell_type": "markdown",
   "id": "5e2b5994",
   "metadata": {},
   "source": [
    "We can see that, the distribution of claim_amount data is highly right skewed, there are lots of outlier present in data."
   ]
  },
  {
   "cell_type": "code",
   "execution_count": 33,
   "id": "4fa898ac",
   "metadata": {},
   "outputs": [
    {
     "data": {
      "text/plain": [
       "marital_status   -0.094400\n",
       "vintage           0.030781\n",
       "claim_amount      0.207082\n",
       "cltv              1.000000\n",
       "Name: cltv, dtype: float64"
      ]
     },
     "execution_count": 33,
     "metadata": {},
     "output_type": "execute_result"
    }
   ],
   "source": [
    "# Correlation between features and target variable\n",
    "df_train.corr()['cltv']"
   ]
  },
  {
   "cell_type": "markdown",
   "id": "3741f348",
   "metadata": {},
   "source": [
    "# Data preprocessing"
   ]
  },
  {
   "cell_type": "code",
   "execution_count": 34,
   "id": "ffa4ad98",
   "metadata": {},
   "outputs": [],
   "source": [
    "# Perform a log transformation on numeric data to make distritubtion normal.\n",
    "# Output variable\n",
    "y_train = np.log1p(y_train)\n",
    "y_valid = np.log1p(y_valid)\n",
    "y_test = np.log1p(y_test)\n",
    "\n",
    "# input variable\n",
    "X_train['claim_amount'] = np.log1p(X_train['claim_amount'])\n",
    "X_valid['claim_amount'] = np.log1p(X_valid['claim_amount'])\n",
    "X_test['claim_amount'] = np.log1p(X_test['claim_amount'])"
   ]
  },
  {
   "cell_type": "code",
   "execution_count": 35,
   "id": "e306f985",
   "metadata": {},
   "outputs": [],
   "source": [
    "# Replace the 'Other' values in qualification with model value\n",
    "val = X_train['qualification'].mode()[0]\n",
    "X_train['qualification'] = X_train['qualification'].replace({'Others':val})\n",
    "X_test['qualification'] = X_test['qualification'].replace({'Others':val})\n",
    "X_valid['qualification'] = X_valid['qualification'].replace({'Others':val})"
   ]
  },
  {
   "cell_type": "code",
   "execution_count": 36,
   "id": "ac71db25",
   "metadata": {},
   "outputs": [],
   "source": [
    "from sklearn.feature_extraction import DictVectorizer\n",
    "\n",
    "# convert dataframe into dictionary\n",
    "train_dict = X_train.to_dict(orient='records')\n",
    "valid_dict = X_valid.to_dict(orient='records')\n",
    "test_dict = X_test.to_dict(orient='records')\n",
    "\n",
    "dv = DictVectorizer(sparse=False)\n",
    "x_train = dv.fit_transform(train_dict)\n",
    "x_valid = dv.transform(valid_dict)\n",
    "x_test  = dv.transform(test_dict)"
   ]
  },
  {
   "cell_type": "code",
   "execution_count": 37,
   "id": "e11e3cf6",
   "metadata": {},
   "outputs": [],
   "source": [
    "# Standarization\n",
    "from sklearn.preprocessing import MinMaxScaler\n",
    "\n",
    "scaler = MinMaxScaler()\n",
    "X_train__transform = scaler.fit_transform(x_train)\n",
    "X_valid__transform = scaler.transform(x_valid)\n",
    "X_test__transform = scaler.transform(x_test)"
   ]
  },
  {
   "cell_type": "code",
   "execution_count": 38,
   "id": "c921611a",
   "metadata": {},
   "outputs": [
    {
     "name": "stdout",
     "output_type": "stream",
     "text": [
      "Test r2 score::  0.47546248878832253\n"
     ]
    }
   ],
   "source": [
    "# Base Model\n",
    "from sklearn.linear_model import LinearRegression\n",
    "\n",
    "lr_model = LinearRegression()\n",
    "lr_model.fit(X_train__transform, y_train)\n",
    "\n",
    "y_preds = lr_model.predict(X_valid__transform)\n",
    "score = r2_score(y_valid, y_preds)\n",
    "print(\"Test r2 score:: \", score)"
   ]
  },
  {
   "cell_type": "code",
   "execution_count": 39,
   "id": "983be095",
   "metadata": {},
   "outputs": [
    {
     "name": "stdout",
     "output_type": "stream",
     "text": [
      "Train r2 score::  0.37622598515825134\n"
     ]
    }
   ],
   "source": [
    "y_preds = lr_model.predict(X_train__transform)\n",
    "score = r2_score(y_train, y_preds)\n",
    "print(\"Train r2 score:: \", score)"
   ]
  },
  {
   "cell_type": "code",
   "execution_count": 40,
   "id": "9cc7f109",
   "metadata": {},
   "outputs": [
    {
     "name": "stdout",
     "output_type": "stream",
     "text": [
      "Train r2 score::  0.11088302216395307\n"
     ]
    }
   ],
   "source": [
    "y_preds = lr_model.predict(X_test__transform)\n",
    "score = r2_score(y_test, y_preds)\n",
    "print(\"Train r2 score:: \", score)"
   ]
  },
  {
   "cell_type": "code",
   "execution_count": 41,
   "id": "13f2bf95",
   "metadata": {},
   "outputs": [
    {
     "name": "stderr",
     "output_type": "stream",
     "text": [
      "/srv/conda/envs/saturn/lib/python3.9/site-packages/xgboost/compat.py:36: FutureWarning: pandas.Int64Index is deprecated and will be removed from pandas in a future version. Use pandas.Index with the appropriate dtype instead.\n",
      "  from pandas import MultiIndex, Int64Index\n"
     ]
    },
    {
     "name": "stdout",
     "output_type": "stream",
     "text": [
      "LR: score:: 0.376 +-(0.008)\n",
      "AB: score:: 0.367 +-(0.009)\n",
      "RF: score:: 0.300 +-(0.011)\n",
      "GB: score:: -0.162 +-(0.021)\n",
      "XGB: score:: 0.377 +-(0.008)\n"
     ]
    }
   ],
   "source": [
    "# Spot check multiple regression algorithms\n",
    "from sklearn.ensemble import RandomForestRegressor\n",
    "from sklearn.ensemble import GradientBoostingRegressor\n",
    "from sklearn.ensemble import AdaBoostRegressor\n",
    "from xgboost import XGBRegressor\n",
    "\n",
    "from sklearn.model_selection import cross_val_score\n",
    "\n",
    "models = {\n",
    "    \"LR\":LinearRegression(),\n",
    "    \"AB\":AdaBoostRegressor(random_state=42),\n",
    "    \"RF\":RandomForestRegressor(random_state=42),\n",
    "    \"GB\":GradientBoostingRegressor(max_depth=None, random_state=42),\n",
    "    \"XGB\":XGBRegressor(random_state=42)\n",
    "}\n",
    "\n",
    "for name, reg in models.items():\n",
    "    score = cross_val_score(reg, X_train__transform, y_train, scoring='r2', cv=7)\n",
    "    print(\"%s: score:: %.3f +-(%.3f)\" % (name, np.mean(score), np.std(score)))   "
   ]
  },
  {
   "cell_type": "code",
   "execution_count": 42,
   "id": "8c8fe389",
   "metadata": {},
   "outputs": [],
   "source": [
    "# n_estimators\n",
    "scores = []\n",
    "for n in range(100, 600, 100):\n",
    "    model = RandomForestRegressor(n_estimators=n, random_state=42)\n",
    "    score = cross_val_score(model, X_train__transform, y_train, scoring='r2', cv=3)\n",
    "    scores.append((n, np.mean(score), np.std(score)))"
   ]
  },
  {
   "cell_type": "code",
   "execution_count": 43,
   "id": "4ee22363",
   "metadata": {},
   "outputs": [
    {
     "data": {
      "text/html": [
       "<div>\n",
       "<style scoped>\n",
       "    .dataframe tbody tr th:only-of-type {\n",
       "        vertical-align: middle;\n",
       "    }\n",
       "\n",
       "    .dataframe tbody tr th {\n",
       "        vertical-align: top;\n",
       "    }\n",
       "\n",
       "    .dataframe thead th {\n",
       "        text-align: right;\n",
       "    }\n",
       "</style>\n",
       "<table border=\"1\" class=\"dataframe\">\n",
       "  <thead>\n",
       "    <tr style=\"text-align: right;\">\n",
       "      <th></th>\n",
       "      <th>n_estimators</th>\n",
       "      <th>r2-score</th>\n",
       "      <th>std</th>\n",
       "    </tr>\n",
       "  </thead>\n",
       "  <tbody>\n",
       "    <tr>\n",
       "      <th>4</th>\n",
       "      <td>500</td>\n",
       "      <td>0.306715</td>\n",
       "      <td>0.005781</td>\n",
       "    </tr>\n",
       "    <tr>\n",
       "      <th>3</th>\n",
       "      <td>400</td>\n",
       "      <td>0.306545</td>\n",
       "      <td>0.005719</td>\n",
       "    </tr>\n",
       "    <tr>\n",
       "      <th>2</th>\n",
       "      <td>300</td>\n",
       "      <td>0.306178</td>\n",
       "      <td>0.005422</td>\n",
       "    </tr>\n",
       "    <tr>\n",
       "      <th>1</th>\n",
       "      <td>200</td>\n",
       "      <td>0.305215</td>\n",
       "      <td>0.005736</td>\n",
       "    </tr>\n",
       "    <tr>\n",
       "      <th>0</th>\n",
       "      <td>100</td>\n",
       "      <td>0.302308</td>\n",
       "      <td>0.006027</td>\n",
       "    </tr>\n",
       "  </tbody>\n",
       "</table>\n",
       "</div>"
      ],
      "text/plain": [
       "   n_estimators  r2-score       std\n",
       "4           500  0.306715  0.005781\n",
       "3           400  0.306545  0.005719\n",
       "2           300  0.306178  0.005422\n",
       "1           200  0.305215  0.005736\n",
       "0           100  0.302308  0.006027"
      ]
     },
     "execution_count": 43,
     "metadata": {},
     "output_type": "execute_result"
    }
   ],
   "source": [
    "pd.DataFrame(scores, columns=['n_estimators', 'r2-score', 'std']).sort_values(by=['r2-score'], ascending=False).head()"
   ]
  },
  {
   "cell_type": "code",
   "execution_count": 44,
   "id": "4c83ba57",
   "metadata": {},
   "outputs": [
    {
     "data": {
      "text/html": [
       "<div>\n",
       "<style scoped>\n",
       "    .dataframe tbody tr th:only-of-type {\n",
       "        vertical-align: middle;\n",
       "    }\n",
       "\n",
       "    .dataframe tbody tr th {\n",
       "        vertical-align: top;\n",
       "    }\n",
       "\n",
       "    .dataframe thead th {\n",
       "        text-align: right;\n",
       "    }\n",
       "</style>\n",
       "<table border=\"1\" class=\"dataframe\">\n",
       "  <thead>\n",
       "    <tr style=\"text-align: right;\">\n",
       "      <th></th>\n",
       "      <th>n_estimators</th>\n",
       "      <th>max-depth</th>\n",
       "      <th>r2-score</th>\n",
       "      <th>std</th>\n",
       "    </tr>\n",
       "  </thead>\n",
       "  <tbody>\n",
       "    <tr>\n",
       "      <th>23</th>\n",
       "      <td>500</td>\n",
       "      <td>7</td>\n",
       "      <td>0.387448</td>\n",
       "      <td>0.005180</td>\n",
       "    </tr>\n",
       "    <tr>\n",
       "      <th>13</th>\n",
       "      <td>300</td>\n",
       "      <td>7</td>\n",
       "      <td>0.387446</td>\n",
       "      <td>0.005140</td>\n",
       "    </tr>\n",
       "    <tr>\n",
       "      <th>8</th>\n",
       "      <td>200</td>\n",
       "      <td>7</td>\n",
       "      <td>0.387443</td>\n",
       "      <td>0.005133</td>\n",
       "    </tr>\n",
       "    <tr>\n",
       "      <th>18</th>\n",
       "      <td>400</td>\n",
       "      <td>7</td>\n",
       "      <td>0.387441</td>\n",
       "      <td>0.005184</td>\n",
       "    </tr>\n",
       "    <tr>\n",
       "      <th>3</th>\n",
       "      <td>100</td>\n",
       "      <td>7</td>\n",
       "      <td>0.387329</td>\n",
       "      <td>0.005116</td>\n",
       "    </tr>\n",
       "  </tbody>\n",
       "</table>\n",
       "</div>"
      ],
      "text/plain": [
       "    n_estimators  max-depth  r2-score       std\n",
       "23           500          7  0.387448  0.005180\n",
       "13           300          7  0.387446  0.005140\n",
       "8            200          7  0.387443  0.005133\n",
       "18           400          7  0.387441  0.005184\n",
       "3            100          7  0.387329  0.005116"
      ]
     },
     "execution_count": 44,
     "metadata": {},
     "output_type": "execute_result"
    }
   ],
   "source": [
    "# max-depth\n",
    "scores = []\n",
    "for n in range(100, 600, 100):\n",
    "    for depth in [2, 3, 5, 7, 9]:\n",
    "        model = RandomForestRegressor(n_estimators=n, max_depth=depth, random_state=42)\n",
    "        score = cross_val_score(model, X_train__transform, y_train, scoring='r2', cv=3)\n",
    "        scores.append((n, depth, np.mean(score), np.std(score)))\n",
    "        \n",
    "pd.DataFrame(scores, columns=['n_estimators', 'max-depth', 'r2-score', 'std']).sort_values(by=['r2-score'], ascending=False).head()"
   ]
  },
  {
   "cell_type": "code",
   "execution_count": 45,
   "id": "10de655a",
   "metadata": {},
   "outputs": [
    {
     "name": "stdout",
     "output_type": "stream",
     "text": [
      "Train score:: 0.39508137402038557\n",
      "Test score:: 0.5173535002139202\n"
     ]
    }
   ],
   "source": [
    "# final model\n",
    "model = RandomForestRegressor(n_estimators=200, max_depth=7, random_state=42)\n",
    "\n",
    "# fitting data\n",
    "model.fit(X_train__transform, y_train)\n",
    "\n",
    "# Predictions\n",
    "y_preds = model.predict(X_train__transform)\n",
    "print(\"Train score::\", r2_score(y_train, y_preds))\n",
    "\n",
    "y_preds = model.predict(X_valid__transform) \n",
    "print(\"Test score::\", r2_score(y_valid, y_preds))"
   ]
  },
  {
   "cell_type": "code",
   "execution_count": 46,
   "id": "f9e0aff0",
   "metadata": {},
   "outputs": [
    {
     "name": "stdout",
     "output_type": "stream",
     "text": [
      "Test score:: 0.1439245488317693\n"
     ]
    }
   ],
   "source": [
    "y_preds = model.predict(X_test__transform)\n",
    "print(\"Test score::\", r2_score(y_test, y_preds))"
   ]
  },
  {
   "cell_type": "markdown",
   "id": "1fab16f6",
   "metadata": {},
   "source": [
    "# Test Data"
   ]
  },
  {
   "cell_type": "code",
   "execution_count": 47,
   "id": "11b53db4",
   "metadata": {},
   "outputs": [],
   "source": [
    "test_df = pd.read_csv(\"./test_koRSKBP.csv\", index_col='id')"
   ]
  },
  {
   "cell_type": "code",
   "execution_count": 48,
   "id": "de219b75",
   "metadata": {},
   "outputs": [],
   "source": [
    "test_df['claim_amount'] = np.log1p(test_df['claim_amount'])\n",
    "test_df['qualification'] = test_df['qualification'].replace({'Others':val})"
   ]
  },
  {
   "cell_type": "code",
   "execution_count": 49,
   "id": "a4889c2b",
   "metadata": {},
   "outputs": [],
   "source": [
    "test_df_dict = test_df.to_dict(orient='records')\n",
    "test_transform = dv.transform(test_df_dict)\n",
    "test_transform = scaler.transform(test_transform)"
   ]
  },
  {
   "cell_type": "code",
   "execution_count": 50,
   "id": "4f7f04bb",
   "metadata": {},
   "outputs": [
    {
     "data": {
      "text/plain": [
       "id\n",
       "89393     77486.224003\n",
       "89394     92552.351451\n",
       "89395     77307.169380\n",
       "89396     75942.097362\n",
       "89397     98255.549185\n",
       "              ...     \n",
       "148983    43155.979743\n",
       "148984    42596.428853\n",
       "148985    81339.582954\n",
       "148986    83725.098783\n",
       "148987    89415.834640\n",
       "Name: cltv, Length: 59595, dtype: float64"
      ]
     },
     "execution_count": 50,
     "metadata": {},
     "output_type": "execute_result"
    }
   ],
   "source": [
    "predictions = model.predict(test_transform)\n",
    "cltv = np.expm1(predictions)\n",
    "solution = pd.Series(cltv, index=test_df.index, name='cltv')\n",
    "solution"
   ]
  },
  {
   "cell_type": "code",
   "execution_count": 52,
   "id": "1f4a6adc",
   "metadata": {},
   "outputs": [],
   "source": [
    "solution.to_csv(\".solution.csv\")"
   ]
  },
  {
   "cell_type": "code",
   "execution_count": null,
   "id": "51d3114b",
   "metadata": {},
   "outputs": [],
   "source": []
  }
 ],
 "metadata": {
  "kernelspec": {
   "display_name": "saturn (Python 3)",
   "language": "python",
   "name": "python3"
  },
  "language_info": {
   "codemirror_mode": {
    "name": "ipython",
    "version": 3
   },
   "file_extension": ".py",
   "mimetype": "text/x-python",
   "name": "python",
   "nbconvert_exporter": "python",
   "pygments_lexer": "ipython3",
   "version": "3.9.12"
  }
 },
 "nbformat": 4,
 "nbformat_minor": 5
}
